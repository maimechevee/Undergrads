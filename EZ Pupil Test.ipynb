{
 "cells": [
  {
   "cell_type": "code",
   "execution_count": 28,
   "metadata": {},
   "outputs": [],
   "source": [
    "#Intervals of Visual Stimulus (Film #)\n",
    "#Read h5 textfile\n",
    "#Reading h5 textfile\n",
    "import h5py\n",
    "import pandas as pd\n",
    "#df = pd.read_hdf()\n",
    "#Function convert h5 to csv\n",
    "def H5toCSV(filename,pathname):\n",
    "    import h5py\n",
    "    import pandas as pd\n",
    "    dfh5 = pd.read_hdf(filename)\n",
    "    dfh5.to_csv(pathname)\n",
    "\n",
    "#Claustrum 37, start frame = 1\n",
    "#claustrum37 date1117 data (require manual input)\n",
    "total = [820,820,820,820,820,820,820,820,820,821]\n",
    "D1117p0 = [230,585,641,806]\n",
    "D1117p1 = [184,312,430,504,613,735]\n",
    "D1117p2 = [41,108,152,234,291,766]\n",
    "D1117p3 = [215,357,395,450,522,585,668]\n",
    "D1117p4 = [80,141,374,431,487,702]\n",
    "D1117p5 = [21,91,193,309,427,549]\n",
    "D1117p6 = [124,253,360,475,659,773]\n",
    "D1117p7 = [76,156,207,425,522,700]\n",
    "D1117p8 = [132,276,438,507,563,607,800]\n",
    "D1117p9 = [244,374,453,813]\n",
    "Dframe = D1117p0 + [820+x for x in D1117p1] + [820*2+x for x in D1117p2] + [3*820+x for x in D1117p3] + [4*820+x for x in D1117p4] + [5*820+x for x in D1117p5] + [6*820+x for x in D1117p6] + [7*820+x for x in D1117p7] + [8*820+x for x in D1117p8] + [9*820+x for x in D1117p9]\n",
    "\n",
    "#read visualstimstarts\n",
    "import csv\n",
    "import numpy as np\n",
    "VisualStimStarts = []\n",
    "with open('Z:/Cl37-20191117/Video File/Videos/VisualStimStarts.csv') as csvfile:\n",
    "    readCSV = csv.reader(csvfile,delimiter=',')\n",
    "    for row in readCSV:\n",
    "        VisualStimStarts.append(row)\n",
    "if len(VisualStimStarts)==1:\n",
    "    VisualStimStarts = VisualStimStarts[0]\n",
    "VSS = [float(x) for x in VisualStimStarts]\n",
    "\n",
    "#find frame interval and stimTime interval to align the first flash\n",
    "DframeTime = [x/10 for x in Dframe]\n",
    "intframe = []\n",
    "for i in range(1,len(DframeTime)):\n",
    "    intframe.append(DframeTime[i]-DframeTime[i-1])\n",
    "inttime = []\n",
    "for i in range(1,len(VSS)):\n",
    "    inttime.append(VSS[i]-VSS[i-1])\n",
    "'''\n",
    "Find the first number x in inttime that is similar to the first number in intframe\n",
    "The new VisualStimStarts starts from the index of x \n",
    "'''\n",
    "\n",
    "useVSS = VSS[5:(5+len(Dframe))]\n",
    "\n",
    "#read + concat csv dataFil from dlc\n",
    "import os\n",
    "import glob\n",
    "import pandas as pd\n",
    "os.chdir('Z:/Cl37-20191117/Video File/Videos/mData')\n",
    "all_filenames = [i for i in glob.glob('*.{}'.format('csv'))]\n",
    "dlcFile = pd.concat([pd.read_csv(f) for f in all_filenames], ignore_index=True)\n",
    "    #dlcFile contains rows of objectA and xy-likelihood\n",
    "#remove rows containing objectA and xy-likelihood\n",
    "bpindex = list((dlcFile[dlcFile['DLC_resnet50_Cl37Jan14shuffle1_20000']=='bodypart1']).index)\n",
    "coorindex = list((dlcFile[dlcFile['DLC_resnet50_Cl37Jan14shuffle1_20000']=='x']).index)\n",
    "dropindex = bpindex+coorindex\n",
    "dlcN = dlcFile.drop(dropindex)\n",
    "for i in dlcN.index: #convert string to float\n",
    "    dlcN['DLC_resnet50_Cl37Jan14shuffle1_20000'][i]=float(dlcFile['DLC_resnet50_Cl37Jan14shuffle1_20000'][i])\n",
    "    dlcN['DLC_resnet50_Cl37Jan14shuffle1_20000.1'][i]=float(dlcN['DLC_resnet50_Cl37Jan14shuffle1_20000.1'][i])\n",
    "    dlcN['DLC_resnet50_Cl37Jan14shuffle1_20000.2'][i]=float(dlcN['DLC_resnet50_Cl37Jan14shuffle1_20000.2'][i])\n",
    "    dlcN['DLC_resnet50_Cl37Jan14shuffle1_20000.3'][i]=float(dlcN['DLC_resnet50_Cl37Jan14shuffle1_20000.3'][i])\n",
    "    dlcN['DLC_resnet50_Cl37Jan14shuffle1_20000.4'][i]=float(dlcN['DLC_resnet50_Cl37Jan14shuffle1_20000.4'][i])\n",
    "    dlcN['DLC_resnet50_Cl37Jan14shuffle1_20000.5'][i]=float(dlcN['DLC_resnet50_Cl37Jan14shuffle1_20000.5'][i])\n",
    "    dlcN['DLC_resnet50_Cl37Jan14shuffle1_20000.6'][i]=float(dlcN['DLC_resnet50_Cl37Jan14shuffle1_20000.6'][i])\n",
    "    dlcN['DLC_resnet50_Cl37Jan14shuffle1_20000.7'][i]=float(dlcN['DLC_resnet50_Cl37Jan14shuffle1_20000.7'][i])\n",
    "    dlcN['DLC_resnet50_Cl37Jan14shuffle1_20000.8'][i]=float(dlcN['DLC_resnet50_Cl37Jan14shuffle1_20000.8'][i])\n",
    "    dlcN['DLC_resnet50_Cl37Jan14shuffle1_20000.9'][i]=float(dlcN['DLC_resnet50_Cl37Jan14shuffle1_20000.9'][i])\n",
    "    dlcN['DLC_resnet50_Cl37Jan14shuffle1_20000.10'][i]=float(dlcN['DLC_resnet50_Cl37Jan14shuffle1_20000.10'][i])\n",
    "    dlcN['DLC_resnet50_Cl37Jan14shuffle1_20000.11'][i]=float(dlcN['DLC_resnet50_Cl37Jan14shuffle1_20000.11'][i])\n",
    "    \n",
    "dlcN.reset_index(inplace=True)\n",
    "dlcN = dlcN.drop(columns='index', axis=1)\n",
    "\n",
    "#read TrialStartTimes\n",
    "TrialStartTimes = []\n",
    "with open('Z:/Cl37-20191117/TrialStartTimes.csv') as csvfile:\n",
    "    readCSV = csv.reader(csvfile,delimiter=',')\n",
    "    for row in readCSV:\n",
    "        TrialStartTimes.append(row)\n",
    "if len(TrialStartTimes)==1:\n",
    "    TrialStartTimes = TrialStartTimes[0]\n",
    "TST = [float(x) for x in TrialStartTimes]\n",
    "\n",
    "#create list of most recentVSSind for each trial using aligned VSS\n",
    "Dif = []\n",
    "recentVSSind = []\n",
    "for i in range(0,len(TST)):\n",
    "    for j in range(0,len(useVSS)):\n",
    "        diff = TST[i] - useVSS[j]\n",
    "        Dif.append(abs(diff))\n",
    "    recentVSSind.append(Dif.index(min(Dif)))\n",
    "    Dif = []\n",
    "\n",
    "recentVSS = [useVSS[i] for i in recentVSSind] #list of visual stim-time closest to each trial start-time\n",
    "recentFrame = [Dframe[i] for i in recentVSSind[0:58]] #list of pupil diameter frame closest to each trial start-time\n",
    "recentFrameTime = [x/10 for x in recentFrame] #convert recentFrame to seconds in time\n",
    "useTST = TST[0:58] #TST given Dframe size\n",
    "\n",
    "import matplotlib.pyplot as plt\n",
    "useTSTF = [x*10 for x in useTST]\n",
    "recentVSSF = [x*10 for x in recentVSS[0:58]]\n",
    "\n",
    "#align frameTime (repeat over each trial)\n",
    "rFTalign = []\n",
    "segmentInd = []\n",
    "for i in range(1, len(recentVSSind[0:58])):\n",
    "    if recentVSSind[i-1] != recentVSSind[i]:\n",
    "        segmentInd.append(i)\n",
    "segmentInd.append(len(recentVSSind[0:58]))\n",
    "rFTalign = [x-(recentFrameTime[0]-recentVSS[0]) for x in recentFrameTime[0:15]]\n",
    "\n",
    "for i in range(0, len(segmentInd)-1):\n",
    "    for j in range(segmentInd[i], segmentInd[i+1]):\n",
    "        rFTalign.append(recentFrameTime[j]-(recentFrameTime[i]-recentVSS[i])) #re-align segments of recent frame time\n",
    "\n",
    "#plot\n",
    "#import master_log dataFrame\n",
    "import pickle\n",
    "from pathlib import Path\n",
    "data_folder = Path('C:/Users/Brown Lab/Desktop')  #/Analysis working folder/Claustrum explore\n",
    "file_to_open = data_folder / \"mouse_log_37.pkl\"\n",
    "with open(file_to_open, 'rb') as f:\n",
    "   master_log_37 = pickle.load(f, encoding='latin1')"
   ]
  },
  {
   "cell_type": "code",
   "execution_count": 55,
   "metadata": {},
   "outputs": [],
   "source": [
    "#alignment for dlc data extraction(*), round last for numeric manipulation\n",
    "alignF = [x*10 for x in rFTalign]\n",
    "difTL = Dframe[0]-VSSF[0] #timeline difference between Intan and camera frame\n",
    "dlcAlignF = np.add(alignF, difTL)"
   ]
  },
  {
   "cell_type": "code",
   "execution_count": 59,
   "metadata": {},
   "outputs": [
    {
     "ename": "KeyError",
     "evalue": "1241",
     "output_type": "error",
     "traceback": [
      "\u001b[1;31m---------------------------------------------------------------------------\u001b[0m",
      "\u001b[1;31mKeyError\u001b[0m                                  Traceback (most recent call last)",
      "\u001b[1;32m~\\Anaconda3\\lib\\site-packages\\pandas\\core\\indexes\\base.py\u001b[0m in \u001b[0;36mget_loc\u001b[1;34m(self, key, method, tolerance)\u001b[0m\n\u001b[0;32m   2656\u001b[0m             \u001b[1;32mtry\u001b[0m\u001b[1;33m:\u001b[0m\u001b[1;33m\u001b[0m\u001b[1;33m\u001b[0m\u001b[0m\n\u001b[1;32m-> 2657\u001b[1;33m                 \u001b[1;32mreturn\u001b[0m \u001b[0mself\u001b[0m\u001b[1;33m.\u001b[0m\u001b[0m_engine\u001b[0m\u001b[1;33m.\u001b[0m\u001b[0mget_loc\u001b[0m\u001b[1;33m(\u001b[0m\u001b[0mkey\u001b[0m\u001b[1;33m)\u001b[0m\u001b[1;33m\u001b[0m\u001b[1;33m\u001b[0m\u001b[0m\n\u001b[0m\u001b[0;32m   2658\u001b[0m             \u001b[1;32mexcept\u001b[0m \u001b[0mKeyError\u001b[0m\u001b[1;33m:\u001b[0m\u001b[1;33m\u001b[0m\u001b[1;33m\u001b[0m\u001b[0m\n",
      "\u001b[1;32mpandas/_libs/index.pyx\u001b[0m in \u001b[0;36mpandas._libs.index.IndexEngine.get_loc\u001b[1;34m()\u001b[0m\n",
      "\u001b[1;32mpandas/_libs/index.pyx\u001b[0m in \u001b[0;36mpandas._libs.index.IndexEngine.get_loc\u001b[1;34m()\u001b[0m\n",
      "\u001b[1;32mpandas/_libs/hashtable_class_helper.pxi\u001b[0m in \u001b[0;36mpandas._libs.hashtable.PyObjectHashTable.get_item\u001b[1;34m()\u001b[0m\n",
      "\u001b[1;32mpandas/_libs/hashtable_class_helper.pxi\u001b[0m in \u001b[0;36mpandas._libs.hashtable.PyObjectHashTable.get_item\u001b[1;34m()\u001b[0m\n",
      "\u001b[1;31mKeyError\u001b[0m: 1241",
      "\nDuring handling of the above exception, another exception occurred:\n",
      "\u001b[1;31mKeyError\u001b[0m                                  Traceback (most recent call last)",
      "\u001b[1;32m<ipython-input-59-89c7308e5fa3>\u001b[0m in \u001b[0;36m<module>\u001b[1;34m\u001b[0m\n\u001b[0;32m      1\u001b[0m \u001b[1;31m#create loop to extract corresponding dlc data starting with the most recent visual stimulus\u001b[0m\u001b[1;33m\u001b[0m\u001b[1;33m\u001b[0m\u001b[1;33m\u001b[0m\u001b[0m\n\u001b[1;32m----> 2\u001b[1;33m \u001b[0mdlcN\u001b[0m\u001b[1;33m[\u001b[0m\u001b[0mint\u001b[0m\u001b[1;33m(\u001b[0m\u001b[0mdlcAlignF\u001b[0m\u001b[1;33m[\u001b[0m\u001b[1;36m0\u001b[0m\u001b[1;33m]\u001b[0m\u001b[1;33m)\u001b[0m\u001b[1;33m]\u001b[0m\u001b[1;33m\u001b[0m\u001b[1;33m\u001b[0m\u001b[0m\n\u001b[0m",
      "\u001b[1;32m~\\Anaconda3\\lib\\site-packages\\pandas\\core\\frame.py\u001b[0m in \u001b[0;36m__getitem__\u001b[1;34m(self, key)\u001b[0m\n\u001b[0;32m   2925\u001b[0m             \u001b[1;32mif\u001b[0m \u001b[0mself\u001b[0m\u001b[1;33m.\u001b[0m\u001b[0mcolumns\u001b[0m\u001b[1;33m.\u001b[0m\u001b[0mnlevels\u001b[0m \u001b[1;33m>\u001b[0m \u001b[1;36m1\u001b[0m\u001b[1;33m:\u001b[0m\u001b[1;33m\u001b[0m\u001b[1;33m\u001b[0m\u001b[0m\n\u001b[0;32m   2926\u001b[0m                 \u001b[1;32mreturn\u001b[0m \u001b[0mself\u001b[0m\u001b[1;33m.\u001b[0m\u001b[0m_getitem_multilevel\u001b[0m\u001b[1;33m(\u001b[0m\u001b[0mkey\u001b[0m\u001b[1;33m)\u001b[0m\u001b[1;33m\u001b[0m\u001b[1;33m\u001b[0m\u001b[0m\n\u001b[1;32m-> 2927\u001b[1;33m             \u001b[0mindexer\u001b[0m \u001b[1;33m=\u001b[0m \u001b[0mself\u001b[0m\u001b[1;33m.\u001b[0m\u001b[0mcolumns\u001b[0m\u001b[1;33m.\u001b[0m\u001b[0mget_loc\u001b[0m\u001b[1;33m(\u001b[0m\u001b[0mkey\u001b[0m\u001b[1;33m)\u001b[0m\u001b[1;33m\u001b[0m\u001b[1;33m\u001b[0m\u001b[0m\n\u001b[0m\u001b[0;32m   2928\u001b[0m             \u001b[1;32mif\u001b[0m \u001b[0mis_integer\u001b[0m\u001b[1;33m(\u001b[0m\u001b[0mindexer\u001b[0m\u001b[1;33m)\u001b[0m\u001b[1;33m:\u001b[0m\u001b[1;33m\u001b[0m\u001b[1;33m\u001b[0m\u001b[0m\n\u001b[0;32m   2929\u001b[0m                 \u001b[0mindexer\u001b[0m \u001b[1;33m=\u001b[0m \u001b[1;33m[\u001b[0m\u001b[0mindexer\u001b[0m\u001b[1;33m]\u001b[0m\u001b[1;33m\u001b[0m\u001b[1;33m\u001b[0m\u001b[0m\n",
      "\u001b[1;32m~\\Anaconda3\\lib\\site-packages\\pandas\\core\\indexes\\base.py\u001b[0m in \u001b[0;36mget_loc\u001b[1;34m(self, key, method, tolerance)\u001b[0m\n\u001b[0;32m   2657\u001b[0m                 \u001b[1;32mreturn\u001b[0m \u001b[0mself\u001b[0m\u001b[1;33m.\u001b[0m\u001b[0m_engine\u001b[0m\u001b[1;33m.\u001b[0m\u001b[0mget_loc\u001b[0m\u001b[1;33m(\u001b[0m\u001b[0mkey\u001b[0m\u001b[1;33m)\u001b[0m\u001b[1;33m\u001b[0m\u001b[1;33m\u001b[0m\u001b[0m\n\u001b[0;32m   2658\u001b[0m             \u001b[1;32mexcept\u001b[0m \u001b[0mKeyError\u001b[0m\u001b[1;33m:\u001b[0m\u001b[1;33m\u001b[0m\u001b[1;33m\u001b[0m\u001b[0m\n\u001b[1;32m-> 2659\u001b[1;33m                 \u001b[1;32mreturn\u001b[0m \u001b[0mself\u001b[0m\u001b[1;33m.\u001b[0m\u001b[0m_engine\u001b[0m\u001b[1;33m.\u001b[0m\u001b[0mget_loc\u001b[0m\u001b[1;33m(\u001b[0m\u001b[0mself\u001b[0m\u001b[1;33m.\u001b[0m\u001b[0m_maybe_cast_indexer\u001b[0m\u001b[1;33m(\u001b[0m\u001b[0mkey\u001b[0m\u001b[1;33m)\u001b[0m\u001b[1;33m)\u001b[0m\u001b[1;33m\u001b[0m\u001b[1;33m\u001b[0m\u001b[0m\n\u001b[0m\u001b[0;32m   2660\u001b[0m         \u001b[0mindexer\u001b[0m \u001b[1;33m=\u001b[0m \u001b[0mself\u001b[0m\u001b[1;33m.\u001b[0m\u001b[0mget_indexer\u001b[0m\u001b[1;33m(\u001b[0m\u001b[1;33m[\u001b[0m\u001b[0mkey\u001b[0m\u001b[1;33m]\u001b[0m\u001b[1;33m,\u001b[0m \u001b[0mmethod\u001b[0m\u001b[1;33m=\u001b[0m\u001b[0mmethod\u001b[0m\u001b[1;33m,\u001b[0m \u001b[0mtolerance\u001b[0m\u001b[1;33m=\u001b[0m\u001b[0mtolerance\u001b[0m\u001b[1;33m)\u001b[0m\u001b[1;33m\u001b[0m\u001b[1;33m\u001b[0m\u001b[0m\n\u001b[0;32m   2661\u001b[0m         \u001b[1;32mif\u001b[0m \u001b[0mindexer\u001b[0m\u001b[1;33m.\u001b[0m\u001b[0mndim\u001b[0m \u001b[1;33m>\u001b[0m \u001b[1;36m1\u001b[0m \u001b[1;32mor\u001b[0m \u001b[0mindexer\u001b[0m\u001b[1;33m.\u001b[0m\u001b[0msize\u001b[0m \u001b[1;33m>\u001b[0m \u001b[1;36m1\u001b[0m\u001b[1;33m:\u001b[0m\u001b[1;33m\u001b[0m\u001b[1;33m\u001b[0m\u001b[0m\n",
      "\u001b[1;32mpandas/_libs/index.pyx\u001b[0m in \u001b[0;36mpandas._libs.index.IndexEngine.get_loc\u001b[1;34m()\u001b[0m\n",
      "\u001b[1;32mpandas/_libs/index.pyx\u001b[0m in \u001b[0;36mpandas._libs.index.IndexEngine.get_loc\u001b[1;34m()\u001b[0m\n",
      "\u001b[1;32mpandas/_libs/hashtable_class_helper.pxi\u001b[0m in \u001b[0;36mpandas._libs.hashtable.PyObjectHashTable.get_item\u001b[1;34m()\u001b[0m\n",
      "\u001b[1;32mpandas/_libs/hashtable_class_helper.pxi\u001b[0m in \u001b[0;36mpandas._libs.hashtable.PyObjectHashTable.get_item\u001b[1;34m()\u001b[0m\n",
      "\u001b[1;31mKeyError\u001b[0m: 1241"
     ]
    }
   ],
   "source": [
    "#create loop to extract corresponding dlc data starting with the most recent visual stimulus\n",
    "dlcN[int(dlcAlignF[0])]"
   ]
  },
  {
   "cell_type": "code",
   "execution_count": 34,
   "metadata": {},
   "outputs": [],
   "source": [
    "useTST = TST[0:58]\n",
    "useTSTF = [x*10 for x in useTST]"
   ]
  },
  {
   "cell_type": "code",
   "execution_count": 35,
   "metadata": {},
   "outputs": [],
   "source": [
    "TSTframeI = [int(x) for x in useTSTF]"
   ]
  },
  {
   "cell_type": "code",
   "execution_count": 26,
   "metadata": {},
   "outputs": [],
   "source": [
    "testalign = [x-(rFTalign[0]-useTST[0]) for x in rFTalign]"
   ]
  },
  {
   "cell_type": "code",
   "execution_count": 56,
   "metadata": {},
   "outputs": [
    {
     "data": {
      "text/plain": [
       "array([1241.22, 1241.22, 1241.22, 1241.22, 1241.22, 1241.22, 1241.22,\n",
       "       1241.22, 1241.22, 1241.22, 1241.22, 1241.22, 1241.22, 1241.22,\n",
       "       1241.22, 1596.22, 1596.22, 1596.22, 1596.22, 1652.22, 1652.22,\n",
       "       1817.22, 2015.22, 2015.22, 2143.22, 2261.22, 2261.22, 2335.22,\n",
       "       2444.22, 2444.22, 2444.22, 2566.22, 2566.22, 2692.22, 2759.22,\n",
       "       2803.22, 2885.22, 2942.22, 2942.22, 2942.22, 3417.22, 3417.22,\n",
       "       3417.22, 3417.22, 3417.22, 3726.32, 3726.32, 3868.32, 3906.32,\n",
       "       3906.32, 3961.32, 4033.02, 4096.02, 4178.72, 4411.42, 4411.42,\n",
       "       4472.42, 4472.42])"
      ]
     },
     "execution_count": 56,
     "metadata": {},
     "output_type": "execute_result"
    }
   ],
   "source": [
    "dlcAlignF"
   ]
  },
  {
   "cell_type": "code",
   "execution_count": 60,
   "metadata": {},
   "outputs": [
    {
     "ename": "KeyError",
     "evalue": "1",
     "output_type": "error",
     "traceback": [
      "\u001b[1;31m---------------------------------------------------------------------------\u001b[0m",
      "\u001b[1;31mKeyError\u001b[0m                                  Traceback (most recent call last)",
      "\u001b[1;32m~\\Anaconda3\\lib\\site-packages\\pandas\\core\\indexes\\base.py\u001b[0m in \u001b[0;36mget_loc\u001b[1;34m(self, key, method, tolerance)\u001b[0m\n\u001b[0;32m   2656\u001b[0m             \u001b[1;32mtry\u001b[0m\u001b[1;33m:\u001b[0m\u001b[1;33m\u001b[0m\u001b[1;33m\u001b[0m\u001b[0m\n\u001b[1;32m-> 2657\u001b[1;33m                 \u001b[1;32mreturn\u001b[0m \u001b[0mself\u001b[0m\u001b[1;33m.\u001b[0m\u001b[0m_engine\u001b[0m\u001b[1;33m.\u001b[0m\u001b[0mget_loc\u001b[0m\u001b[1;33m(\u001b[0m\u001b[0mkey\u001b[0m\u001b[1;33m)\u001b[0m\u001b[1;33m\u001b[0m\u001b[1;33m\u001b[0m\u001b[0m\n\u001b[0m\u001b[0;32m   2658\u001b[0m             \u001b[1;32mexcept\u001b[0m \u001b[0mKeyError\u001b[0m\u001b[1;33m:\u001b[0m\u001b[1;33m\u001b[0m\u001b[1;33m\u001b[0m\u001b[0m\n",
      "\u001b[1;32mpandas/_libs/index.pyx\u001b[0m in \u001b[0;36mpandas._libs.index.IndexEngine.get_loc\u001b[1;34m()\u001b[0m\n",
      "\u001b[1;32mpandas/_libs/index.pyx\u001b[0m in \u001b[0;36mpandas._libs.index.IndexEngine.get_loc\u001b[1;34m()\u001b[0m\n",
      "\u001b[1;32mpandas/_libs/hashtable_class_helper.pxi\u001b[0m in \u001b[0;36mpandas._libs.hashtable.PyObjectHashTable.get_item\u001b[1;34m()\u001b[0m\n",
      "\u001b[1;32mpandas/_libs/hashtable_class_helper.pxi\u001b[0m in \u001b[0;36mpandas._libs.hashtable.PyObjectHashTable.get_item\u001b[1;34m()\u001b[0m\n",
      "\u001b[1;31mKeyError\u001b[0m: 1",
      "\nDuring handling of the above exception, another exception occurred:\n",
      "\u001b[1;31mKeyError\u001b[0m                                  Traceback (most recent call last)",
      "\u001b[1;32m<ipython-input-60-98cd1b8d11da>\u001b[0m in \u001b[0;36m<module>\u001b[1;34m\u001b[0m\n\u001b[1;32m----> 1\u001b[1;33m \u001b[0mdlcN\u001b[0m\u001b[1;33m[\u001b[0m\u001b[1;36m1\u001b[0m\u001b[1;33m]\u001b[0m\u001b[1;33m\u001b[0m\u001b[1;33m\u001b[0m\u001b[0m\n\u001b[0m",
      "\u001b[1;32m~\\Anaconda3\\lib\\site-packages\\pandas\\core\\frame.py\u001b[0m in \u001b[0;36m__getitem__\u001b[1;34m(self, key)\u001b[0m\n\u001b[0;32m   2925\u001b[0m             \u001b[1;32mif\u001b[0m \u001b[0mself\u001b[0m\u001b[1;33m.\u001b[0m\u001b[0mcolumns\u001b[0m\u001b[1;33m.\u001b[0m\u001b[0mnlevels\u001b[0m \u001b[1;33m>\u001b[0m \u001b[1;36m1\u001b[0m\u001b[1;33m:\u001b[0m\u001b[1;33m\u001b[0m\u001b[1;33m\u001b[0m\u001b[0m\n\u001b[0;32m   2926\u001b[0m                 \u001b[1;32mreturn\u001b[0m \u001b[0mself\u001b[0m\u001b[1;33m.\u001b[0m\u001b[0m_getitem_multilevel\u001b[0m\u001b[1;33m(\u001b[0m\u001b[0mkey\u001b[0m\u001b[1;33m)\u001b[0m\u001b[1;33m\u001b[0m\u001b[1;33m\u001b[0m\u001b[0m\n\u001b[1;32m-> 2927\u001b[1;33m             \u001b[0mindexer\u001b[0m \u001b[1;33m=\u001b[0m \u001b[0mself\u001b[0m\u001b[1;33m.\u001b[0m\u001b[0mcolumns\u001b[0m\u001b[1;33m.\u001b[0m\u001b[0mget_loc\u001b[0m\u001b[1;33m(\u001b[0m\u001b[0mkey\u001b[0m\u001b[1;33m)\u001b[0m\u001b[1;33m\u001b[0m\u001b[1;33m\u001b[0m\u001b[0m\n\u001b[0m\u001b[0;32m   2928\u001b[0m             \u001b[1;32mif\u001b[0m \u001b[0mis_integer\u001b[0m\u001b[1;33m(\u001b[0m\u001b[0mindexer\u001b[0m\u001b[1;33m)\u001b[0m\u001b[1;33m:\u001b[0m\u001b[1;33m\u001b[0m\u001b[1;33m\u001b[0m\u001b[0m\n\u001b[0;32m   2929\u001b[0m                 \u001b[0mindexer\u001b[0m \u001b[1;33m=\u001b[0m \u001b[1;33m[\u001b[0m\u001b[0mindexer\u001b[0m\u001b[1;33m]\u001b[0m\u001b[1;33m\u001b[0m\u001b[1;33m\u001b[0m\u001b[0m\n",
      "\u001b[1;32m~\\Anaconda3\\lib\\site-packages\\pandas\\core\\indexes\\base.py\u001b[0m in \u001b[0;36mget_loc\u001b[1;34m(self, key, method, tolerance)\u001b[0m\n\u001b[0;32m   2657\u001b[0m                 \u001b[1;32mreturn\u001b[0m \u001b[0mself\u001b[0m\u001b[1;33m.\u001b[0m\u001b[0m_engine\u001b[0m\u001b[1;33m.\u001b[0m\u001b[0mget_loc\u001b[0m\u001b[1;33m(\u001b[0m\u001b[0mkey\u001b[0m\u001b[1;33m)\u001b[0m\u001b[1;33m\u001b[0m\u001b[1;33m\u001b[0m\u001b[0m\n\u001b[0;32m   2658\u001b[0m             \u001b[1;32mexcept\u001b[0m \u001b[0mKeyError\u001b[0m\u001b[1;33m:\u001b[0m\u001b[1;33m\u001b[0m\u001b[1;33m\u001b[0m\u001b[0m\n\u001b[1;32m-> 2659\u001b[1;33m                 \u001b[1;32mreturn\u001b[0m \u001b[0mself\u001b[0m\u001b[1;33m.\u001b[0m\u001b[0m_engine\u001b[0m\u001b[1;33m.\u001b[0m\u001b[0mget_loc\u001b[0m\u001b[1;33m(\u001b[0m\u001b[0mself\u001b[0m\u001b[1;33m.\u001b[0m\u001b[0m_maybe_cast_indexer\u001b[0m\u001b[1;33m(\u001b[0m\u001b[0mkey\u001b[0m\u001b[1;33m)\u001b[0m\u001b[1;33m)\u001b[0m\u001b[1;33m\u001b[0m\u001b[1;33m\u001b[0m\u001b[0m\n\u001b[0m\u001b[0;32m   2660\u001b[0m         \u001b[0mindexer\u001b[0m \u001b[1;33m=\u001b[0m \u001b[0mself\u001b[0m\u001b[1;33m.\u001b[0m\u001b[0mget_indexer\u001b[0m\u001b[1;33m(\u001b[0m\u001b[1;33m[\u001b[0m\u001b[0mkey\u001b[0m\u001b[1;33m]\u001b[0m\u001b[1;33m,\u001b[0m \u001b[0mmethod\u001b[0m\u001b[1;33m=\u001b[0m\u001b[0mmethod\u001b[0m\u001b[1;33m,\u001b[0m \u001b[0mtolerance\u001b[0m\u001b[1;33m=\u001b[0m\u001b[0mtolerance\u001b[0m\u001b[1;33m)\u001b[0m\u001b[1;33m\u001b[0m\u001b[1;33m\u001b[0m\u001b[0m\n\u001b[0;32m   2661\u001b[0m         \u001b[1;32mif\u001b[0m \u001b[0mindexer\u001b[0m\u001b[1;33m.\u001b[0m\u001b[0mndim\u001b[0m \u001b[1;33m>\u001b[0m \u001b[1;36m1\u001b[0m \u001b[1;32mor\u001b[0m \u001b[0mindexer\u001b[0m\u001b[1;33m.\u001b[0m\u001b[0msize\u001b[0m \u001b[1;33m>\u001b[0m \u001b[1;36m1\u001b[0m\u001b[1;33m:\u001b[0m\u001b[1;33m\u001b[0m\u001b[1;33m\u001b[0m\u001b[0m\n",
      "\u001b[1;32mpandas/_libs/index.pyx\u001b[0m in \u001b[0;36mpandas._libs.index.IndexEngine.get_loc\u001b[1;34m()\u001b[0m\n",
      "\u001b[1;32mpandas/_libs/index.pyx\u001b[0m in \u001b[0;36mpandas._libs.index.IndexEngine.get_loc\u001b[1;34m()\u001b[0m\n",
      "\u001b[1;32mpandas/_libs/hashtable_class_helper.pxi\u001b[0m in \u001b[0;36mpandas._libs.hashtable.PyObjectHashTable.get_item\u001b[1;34m()\u001b[0m\n",
      "\u001b[1;32mpandas/_libs/hashtable_class_helper.pxi\u001b[0m in \u001b[0;36mpandas._libs.hashtable.PyObjectHashTable.get_item\u001b[1;34m()\u001b[0m\n",
      "\u001b[1;31mKeyError\u001b[0m: 1"
     ]
    }
   ],
   "source": [
    "dlcN[]"
   ]
  },
  {
   "cell_type": "code",
   "execution_count": 43,
   "metadata": {},
   "outputs": [],
   "source": []
  },
  {
   "cell_type": "code",
   "execution_count": null,
   "metadata": {},
   "outputs": [],
   "source": []
  },
  {
   "cell_type": "code",
   "execution_count": null,
   "metadata": {},
   "outputs": [],
   "source": [
    "'''\n",
    "alignment notes (*):\n",
    "4 timelines:\n",
    "1. VSS\n",
    "2. TST\n",
    "3. Dframe\n",
    "4. dlc\n",
    "\n",
    "(1) + (2) have the same timeline and (3) + (4) have the same timeline\n",
    "rFTalign has been aligned to VSS's timeline\n",
    "    to use rFTalign for dlc extraction\n",
    "    add difTL = Dframe[0] - VSS[0]*10\n",
    "'''"
   ]
  }
 ],
 "metadata": {
  "kernelspec": {
   "display_name": "Python 3",
   "language": "python",
   "name": "python3"
  },
  "language_info": {
   "codemirror_mode": {
    "name": "ipython",
    "version": 3
   },
   "file_extension": ".py",
   "mimetype": "text/x-python",
   "name": "python",
   "nbconvert_exporter": "python",
   "pygments_lexer": "ipython3",
   "version": "3.7.3"
  }
 },
 "nbformat": 4,
 "nbformat_minor": 2
}
